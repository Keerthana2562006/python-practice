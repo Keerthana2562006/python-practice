{
 "cells": [
  {
   "cell_type": "code",
   "execution_count": 1,
   "id": "822043a9-1d73-476f-b466-7da2cfedc2f0",
   "metadata": {},
   "outputs": [
    {
     "name": "stdin",
     "output_type": "stream",
     "text": [
      "Enter the number of elements in the list:  5\n",
      "Enter element :  3\n",
      "Enter element :  2\n",
      "Enter element :  3\n",
      "Enter element :  780\n",
      "Enter element :  90\n"
     ]
    },
    {
     "name": "stdout",
     "output_type": "stream",
     "text": [
      "The number of distinct elements in the list is: 4\n"
     ]
    }
   ],
   "source": [
    "n = int(input(\"Enter the number of elements in the list: \"))\n",
    "my_list = []\n",
    "for i in range(n):\n",
    "  element = int(input(\"Enter element : \"))\n",
    "  my_list.append(element)\n",
    "\n",
    "distinct_elements = []\n",
    "for element in my_list:\n",
    "  if element not in distinct_elements:\n",
    "    distinct_elements.append(element)\n",
    "\n",
    "num_distinct_elements = len(distinct_elements)\n",
    "print(\"The number of distinct elements in the list is:\",num_distinct_elements)"
   ]
  },
  {
   "cell_type": "code",
   "execution_count": null,
   "id": "246d091b-fde1-4f68-8a5d-ffb91252674c",
   "metadata": {},
   "outputs": [],
   "source": []
  }
 ],
 "metadata": {
  "kernelspec": {
   "display_name": "Python 3 (ipykernel)",
   "language": "python",
   "name": "python3"
  },
  "language_info": {
   "codemirror_mode": {
    "name": "ipython",
    "version": 3
   },
   "file_extension": ".py",
   "mimetype": "text/x-python",
   "name": "python",
   "nbconvert_exporter": "python",
   "pygments_lexer": "ipython3",
   "version": "3.12.4"
  }
 },
 "nbformat": 4,
 "nbformat_minor": 5
}
