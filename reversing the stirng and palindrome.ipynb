{
 "cells": [
  {
   "cell_type": "code",
   "execution_count": 3,
   "id": "02e0df26-2c18-482d-9eda-fc488104a2f7",
   "metadata": {},
   "outputs": [
    {
     "name": "stdin",
     "output_type": "stream",
     "text": [
      " keerthana\n"
     ]
    },
    {
     "name": "stdout",
     "output_type": "stream",
     "text": [
      "anahtreek\n"
     ]
    }
   ],
   "source": [
    "text=str(input())\n",
    "rev_text =\"\"\n",
    "for j in text:\n",
    " rev_text=j+rev_text\n",
    "print(rev_text)"
   ]
  },
  {
   "cell_type": "code",
   "execution_count": 13,
   "id": "37dbd3cd-dd37-4270-a75a-7e81ceb7a534",
   "metadata": {},
   "outputs": [
    {
     "name": "stdin",
     "output_type": "stream",
     "text": [
      " keerthana\n"
     ]
    },
    {
     "name": "stdout",
     "output_type": "stream",
     "text": [
      "anahtreek\n",
      "not palindrome\n"
     ]
    }
   ],
   "source": [
    "text=str(input())\n",
    "rev_text =\"\"\n",
    "for j in text:\n",
    " rev_text=j+rev_text\n",
    "print(rev_text)\n",
    "\n",
    "if text==rev_text:\n",
    "     print(\"palindrome\")\n",
    "else:print(\"not palindrome\")"
   ]
  },
  {
   "cell_type": "code",
   "execution_count": 23,
   "id": "a16c738c-0b0a-4f92-9f92-ed3a2fd28adf",
   "metadata": {},
   "outputs": [
    {
     "name": "stdin",
     "output_type": "stream",
     "text": [
      " bca2024b\n"
     ]
    },
    {
     "ename": "NameError",
     "evalue": "name 'alpahbet' is not defined",
     "output_type": "error",
     "traceback": [
      "\u001b[1;31m---------------------------------------------------------------------------\u001b[0m",
      "\u001b[1;31mNameError\u001b[0m                                 Traceback (most recent call last)",
      "Cell \u001b[1;32mIn[23], line 9\u001b[0m\n\u001b[0;32m      6\u001b[0m     \u001b[38;5;28;01melif\u001b[39;00m i\u001b[38;5;241m.\u001b[39misdigit():\n\u001b[0;32m      7\u001b[0m         digit\u001b[38;5;241m+\u001b[39m\u001b[38;5;241m=\u001b[39m\u001b[38;5;241m1\u001b[39m \n\u001b[1;32m----> 9\u001b[0m \u001b[38;5;28mprint\u001b[39m(\u001b[38;5;124m\"\u001b[39m\u001b[38;5;124mAlphabet:\u001b[39m\u001b[38;5;124m\"\u001b[39m,alpahbet)\n\u001b[0;32m     10\u001b[0m \u001b[38;5;28mprint\u001b[39m(\u001b[38;5;124m\"\u001b[39m\u001b[38;5;124mDigit:\u001b[39m\u001b[38;5;124m\"\u001b[39m,digit)\n",
      "\u001b[1;31mNameError\u001b[0m: name 'alpahbet' is not defined"
     ]
    }
   ],
   "source": [
    "text= str(input())\n",
    "digit=alphabet=0\n",
    "for i in text:\n",
    "    if i.isalpha():\n",
    "        alphabet+=1\n",
    "    elif i.isdigit():\n",
    "        digit+=1 \n",
    "        \n",
    "print(\"Alphabet:\",alpahbet)\n",
    "print(\"Digit:\",digit)"
   ]
  },
  {
   "cell_type": "code",
   "execution_count": null,
   "id": "9de8324a-3f38-452e-afa7-f7298ab75d70",
   "metadata": {},
   "outputs": [],
   "source": []
  }
 ],
 "metadata": {
  "kernelspec": {
   "display_name": "Python 3 (ipykernel)",
   "language": "python",
   "name": "python3"
  },
  "language_info": {
   "codemirror_mode": {
    "name": "ipython",
    "version": 3
   },
   "file_extension": ".py",
   "mimetype": "text/x-python",
   "name": "python",
   "nbconvert_exporter": "python",
   "pygments_lexer": "ipython3",
   "version": "3.12.4"
  }
 },
 "nbformat": 4,
 "nbformat_minor": 5
}
