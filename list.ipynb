{
 "cells": [
  {
   "cell_type": "code",
   "execution_count": 7,
   "id": "64b6728c-a844-4257-b5f3-f9a31a1ddd82",
   "metadata": {},
   "outputs": [
    {
     "name": "stdout",
     "output_type": "stream",
     "text": [
      "10 20 30 40 "
     ]
    }
   ],
   "source": [
    "#how to print alli elements in the list\n",
    "a=[10,20,30,40]\n",
    "for i in a:\n",
    "    print(i,end=\" \")"
   ]
  },
  {
   "cell_type": "code",
   "execution_count": 21,
   "id": "ee80ed62-94f1-4f91-a679-8084a9cbb4ee",
   "metadata": {},
   "outputs": [
    {
     "name": "stdout",
     "output_type": "stream",
     "text": [
      "yes\n"
     ]
    }
   ],
   "source": [
    "# how to check whether the eliment is present in the list or not\n",
    "for i in a:\n",
    "    if i==30:\n",
    "        print(\"yes\")\n",
    "        break\n",
    "else:\n",
    "    print(\"no\")"
   ]
  },
  {
   "cell_type": "code",
   "execution_count": 27,
   "id": "ec30842f-479b-42bc-9111-ba6e86bbdf22",
   "metadata": {},
   "outputs": [
    {
     "data": {
      "text/plain": [
       "True"
      ]
     },
     "execution_count": 27,
     "metadata": {},
     "output_type": "execute_result"
    }
   ],
   "source": [
    "30 in a  #membership oparetor"
   ]
  },
  {
   "cell_type": "code",
   "execution_count": 25,
   "id": "6052afc1-a4d2-4fb5-b413-a0b4d3363b9e",
   "metadata": {},
   "outputs": [
    {
     "name": "stdout",
     "output_type": "stream",
     "text": [
      "yes\n"
     ]
    }
   ],
   "source": [
    "if 30 in a:\n",
    "    print(\"yes\")\n",
    "else:\n",
    "    print(\"no\")"
   ]
  },
  {
   "cell_type": "code",
   "execution_count": 33,
   "id": "fab2e5f5-b116-4a34-a0da-10a2ea8ebb49",
   "metadata": {},
   "outputs": [
    {
     "name": "stdout",
     "output_type": "stream",
     "text": [
      "2\n"
     ]
    }
   ],
   "source": [
    "#find the index value of a number 30 in the list\n",
    "for i in range(len(a)):\n",
    "    if a[i]==30:\n",
    "        print(i)\n",
    "        break"
   ]
  },
  {
   "cell_type": "code",
   "execution_count": 35,
   "id": "6c4d8384-bb63-49ba-8687-fc4058dd565b",
   "metadata": {},
   "outputs": [
    {
     "name": "stdout",
     "output_type": "stream",
     "text": [
      "5\n"
     ]
    }
   ],
   "source": [
    "b=[10,20,30,40,50,60,70,80]\n",
    "#index value of 80            # using index \n",
    "print(b.index(60))"
   ]
  },
  {
   "cell_type": "code",
   "execution_count": 41,
   "id": "5e063037-bf6f-42a7-a4e1-e3262b6f5ce7",
   "metadata": {},
   "outputs": [
    {
     "data": {
      "text/plain": [
       "[]"
      ]
     },
     "execution_count": 41,
     "metadata": {},
     "output_type": "execute_result"
    }
   ],
   "source": [
    "#empty list\n",
    "e=[]\n",
    "e"
   ]
  },
  {
   "cell_type": "code",
   "execution_count": 43,
   "id": "8e0a7115-4c3f-4c3e-ac8d-56b642d47c82",
   "metadata": {},
   "outputs": [
    {
     "name": "stdout",
     "output_type": "stream",
     "text": [
      "[10, 20, 30, 40, 50, 60, 70, 80]\n"
     ]
    }
   ],
   "source": [
    "b=[10,20,30,40,50,60,70,80]\n",
    "print(b)"
   ]
  },
  {
   "cell_type": "code",
   "execution_count": 47,
   "id": "ca03a71b-6280-4cd5-b719-ecd7194b8478",
   "metadata": {},
   "outputs": [
    {
     "data": {
      "text/plain": [
       "[10.1, 20.4, 30.5, 40.6, 50.7, 60.6, 70.7, 80.8]"
      ]
     },
     "execution_count": 47,
     "metadata": {},
     "output_type": "execute_result"
    }
   ],
   "source": [
    "b=[10.1,20.4,30.5,40.6,50.7,60.6,70.7,80.8]\n",
    "b"
   ]
  },
  {
   "cell_type": "code",
   "execution_count": 49,
   "id": "4136a38f-489f-452d-a148-8b15384a2d49",
   "metadata": {},
   "outputs": [
    {
     "data": {
      "text/plain": [
       "['a', 'd', 'r']"
      ]
     },
     "execution_count": 49,
     "metadata": {},
     "output_type": "execute_result"
    }
   ],
   "source": [
    "c=['a','d','r']\n",
    "c"
   ]
  },
  {
   "cell_type": "code",
   "execution_count": 51,
   "id": "835b0e19-9aa2-4fc1-9fa1-e5b51daf4f39",
   "metadata": {},
   "outputs": [
    {
     "data": {
      "text/plain": [
       "['python', 'hello', 'list']"
      ]
     },
     "execution_count": 51,
     "metadata": {},
     "output_type": "execute_result"
    }
   ],
   "source": [
    "d=['python','hello','list']\n",
    "d"
   ]
  },
  {
   "cell_type": "code",
   "execution_count": 71,
   "id": "3600144a-960a-4579-ba0a-2af58e14cf53",
   "metadata": {},
   "outputs": [
    {
     "data": {
      "text/plain": [
       "[1, 'hi', 67.9, 'a']"
      ]
     },
     "execution_count": 71,
     "metadata": {},
     "output_type": "execute_result"
    }
   ],
   "source": [
    "information=[1,'hi',67.9,'a']\n",
    "information"
   ]
  },
  {
   "cell_type": "code",
   "execution_count": 73,
   "id": "821bbdd9-7157-4904-bfae-e569abeba31a",
   "metadata": {},
   "outputs": [
    {
     "data": {
      "text/plain": [
       "'hi'"
      ]
     },
     "execution_count": 73,
     "metadata": {},
     "output_type": "execute_result"
    }
   ],
   "source": [
    "information[1]"
   ]
  },
  {
   "cell_type": "code",
   "execution_count": 77,
   "id": "dce3b1c1-9066-46d6-9920-718ef996b2ef",
   "metadata": {},
   "outputs": [
    {
     "data": {
      "text/plain": [
       "[1, 'huj', 67.9, 'a']"
      ]
     },
     "execution_count": 77,
     "metadata": {},
     "output_type": "execute_result"
    }
   ],
   "source": [
    "information[1]= \"huj\"\n",
    "information"
   ]
  },
  {
   "cell_type": "code",
   "execution_count": 81,
   "id": "3297dca7-5c4a-4018-a2cf-7477ea8af2ff",
   "metadata": {},
   "outputs": [
    {
     "data": {
      "text/plain": [
       "[1, 'huj', 67.9, 'a', 'h', 'e', 'l', 'l', 'o']"
      ]
     },
     "execution_count": 81,
     "metadata": {},
     "output_type": "execute_result"
    }
   ],
   "source": [
    "information += \"hello\"\n",
    "information"
   ]
  },
  {
   "cell_type": "code",
   "execution_count": 87,
   "id": "8c303482-22b5-40fd-ae09-33912b431190",
   "metadata": {},
   "outputs": [
    {
     "data": {
      "text/plain": [
       "[1,\n",
       " 'huj',\n",
       " 67.9,\n",
       " 'a',\n",
       " 'h',\n",
       " 'e',\n",
       " 'l',\n",
       " 'l',\n",
       " 'o',\n",
       " 1,\n",
       " 'huj',\n",
       " 67.9,\n",
       " 'a',\n",
       " 'h',\n",
       " 'e',\n",
       " 'l',\n",
       " 'l',\n",
       " 'o',\n",
       " 1,\n",
       " 'huj',\n",
       " 67.9,\n",
       " 'a',\n",
       " 'h',\n",
       " 'e',\n",
       " 'l',\n",
       " 'l',\n",
       " 'o',\n",
       " 1,\n",
       " 'huj',\n",
       " 67.9,\n",
       " 'a',\n",
       " 'h',\n",
       " 'e',\n",
       " 'l',\n",
       " 'l',\n",
       " 'o',\n",
       " 1,\n",
       " 'huj',\n",
       " 67.9,\n",
       " 'a',\n",
       " 'h',\n",
       " 'e',\n",
       " 'l',\n",
       " 'l',\n",
       " 'o',\n",
       " 1,\n",
       " 'huj',\n",
       " 67.9,\n",
       " 'a',\n",
       " 'h',\n",
       " 'e',\n",
       " 'l',\n",
       " 'l',\n",
       " 'o',\n",
       " 1,\n",
       " 'huj',\n",
       " 67.9,\n",
       " 'a',\n",
       " 'h',\n",
       " 'e',\n",
       " 'l',\n",
       " 'l',\n",
       " 'o',\n",
       " 1,\n",
       " 'huj',\n",
       " 67.9,\n",
       " 'a',\n",
       " 'h',\n",
       " 'e',\n",
       " 'l',\n",
       " 'l',\n",
       " 'o']"
      ]
     },
     "execution_count": 87,
     "metadata": {},
     "output_type": "execute_result"
    }
   ],
   "source": [
    "information*=2\n",
    "information"
   ]
  },
  {
   "cell_type": "code",
   "execution_count": 91,
   "id": "20df8f75-3257-4250-9fb5-f9be6f2f9c86",
   "metadata": {},
   "outputs": [
    {
     "data": {
      "text/plain": [
       "[1, 'huj', 67.9]"
      ]
     },
     "execution_count": 91,
     "metadata": {},
     "output_type": "execute_result"
    }
   ],
   "source": [
    "#slicing\n",
    "information[0:3]"
   ]
  },
  {
   "cell_type": "code",
   "execution_count": null,
   "id": "41afad21-d4be-4168-9cce-be7e45c0e361",
   "metadata": {},
   "outputs": [],
   "source": []
  }
 ],
 "metadata": {
  "kernelspec": {
   "display_name": "Python 3 (ipykernel)",
   "language": "python",
   "name": "python3"
  },
  "language_info": {
   "codemirror_mode": {
    "name": "ipython",
    "version": 3
   },
   "file_extension": ".py",
   "mimetype": "text/x-python",
   "name": "python",
   "nbconvert_exporter": "python",
   "pygments_lexer": "ipython3",
   "version": "3.12.4"
  }
 },
 "nbformat": 4,
 "nbformat_minor": 5
}
